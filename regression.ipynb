{
 "cells": [
  {
   "cell_type": "markdown",
   "metadata": {},
   "source": [
    "# Regression"
   ]
  },
  {
   "cell_type": "code",
   "execution_count": 14,
   "metadata": {},
   "outputs": [],
   "source": [
    "import numpy as np\n",
    "import pandas as pd\n",
    "import matplotlib.pyplot as plt"
   ]
  },
  {
   "cell_type": "markdown",
   "metadata": {},
   "source": [
    "## Генерация данных"
   ]
  },
  {
   "cell_type": "code",
   "execution_count": 15,
   "metadata": {},
   "outputs": [],
   "source": [
    "np.random.seed(42)\n",
    "\n",
    "x = np.random.gumbel(50, 10, 175)\n",
    "y = x * 70000\n",
    "noise = np.random.normal(0, 800000, 175)# + np.random.uniform(-500000, 500000, 875)\n",
    "y = y + noise"
   ]
  },
  {
   "cell_type": "code",
   "execution_count": 137,
   "metadata": {},
   "outputs": [
    {
     "data": {
      "image/png": "[encoded data removed]",
      "text/plain": [
       "<Figure size 432x288 with 1 Axes>"
      ]
     },
     "metadata": {},
     "output_type": "display_data"
    }
   ],
   "source": [
    "plt.plot(x, y, 'o', alpha=0.4)\n",
    "plt.yticks(np.arange(0, 10000000, 2000000))\n",
    "plt.xlabel('Площадь, м^2')\n",
    "plt.ylabel('Цена, руб.')\n",
    "plt.title('Зависимость цены квартиры от её площади')\n",
    "plt.show()"
   ]
  },
  {
   "cell_type": "markdown",
   "metadata": {},
   "source": [
    "## Net input"
   ]
  },
  {
   "cell_type": "markdown",
   "metadata": {},
   "source": [
    "$$ Z = W_1 X_1 + W_2 X_2 + ... + b $$"
   ]
  },
  {
   "cell_type": "code",
   "execution_count": 138,
   "metadata": {},
   "outputs": [],
   "source": [
    "def net_input(W, X, b):\n",
    "#     assert len(W) == len(X), \"len(W) != len(X)\"\n",
    "#     result = 0\n",
    "#     for i in range(len(X)):\n",
    "#         result += W[i] * X[i]\n",
    "#     result += b\n",
    "    \n",
    "    return np.dot(W, X) + b"
   ]
  },
  {
   "cell_type": "code",
   "execution_count": 139,
   "metadata": {},
   "outputs": [
    {
     "data": {
      "text/plain": [
       "175"
      ]
     },
     "execution_count": 139,
     "metadata": {},
     "output_type": "execute_result"
    }
   ],
   "source": [
    "W = [1, 4, 5, 6]\n",
    "b = 50\n",
    "dumb_X = [3, 7, 8, 9]\n",
    "dumb_Y = net_input(W, dumb_X, b)\n",
    "dumb_Y"
   ]
  },
  {
   "cell_type": "markdown",
   "metadata": {},
   "source": [
    "## Cost function"
   ]
  },
  {
   "cell_type": "markdown",
   "metadata": {},
   "source": [
    "$$L(\\hat{y}, y) = \\frac{1}{m} \\sum{(\\hat{y} - y)^2}$$"
   ]
  },
  {
   "cell_type": "code",
   "execution_count": 140,
   "metadata": {},
   "outputs": [],
   "source": [
    "def cost_function(Y_hat, Y):\n",
    "    return np.sum(np.square(Y_hat - Y)) / Y.shape[0]"
   ]
  },
  {
   "cell_type": "markdown",
   "metadata": {},
   "source": [
    "## Cost function derivative"
   ]
  },
  {
   "cell_type": "markdown",
   "metadata": {},
   "source": [
    "$$ \\frac{\\partial L}{\\partial w} = \\frac{2}{m} \\sum{(\\hat{y} - y)} x $$"
   ]
  },
  {
   "cell_type": "code",
   "execution_count": 141,
   "metadata": {},
   "outputs": [],
   "source": [
    "def cost_function_derivative_w(Y_hat, Y, X):\n",
    "    return 2 * np.sum((Y_hat - Y) * X) / Y.shape[0]"
   ]
  },
  {
   "cell_type": "markdown",
   "metadata": {},
   "source": [
    "$$ \\frac{\\partial L}{\\partial b} = \\frac{2}{m} \\sum{(\\hat{y} - y)} $$"
   ]
  },
  {
   "cell_type": "code",
   "execution_count": 142,
   "metadata": {},
   "outputs": [],
   "source": [
    "def cost_function_derivative_b(Y_hat, Y):\n",
    "    return 2 * np.sum(Y_hat - Y) / Y.shape[0]"
   ]
  },
  {
   "cell_type": "markdown",
   "metadata": {},
   "source": [
    "## Learning process"
   ]
  },
  {
   "cell_type": "markdown",
   "metadata": {},
   "source": [
    "$$ w := w - \\alpha \\frac{\\partial L}{\\partial w} $$\n",
    "$$ b := b - \\alpha \\frac{\\partial L}{\\partial b} $$"
   ]
  },
  {
   "cell_type": "code",
   "execution_count": 153,
   "metadata": {},
   "outputs": [
    {
     "name": "stdout",
     "output_type": "stream",
     "text": [
      "cost function: 3238953605615545.5\n",
      "cost function: 2574263215507961.0\n",
      "cost function: 2059375466013242.5\n",
      "cost function: 1661381642564710.8\n",
      "cost function: 1354510674018365.0\n",
      "cost function: 1118591164737364.1\n",
      "cost function: 937843683914506.8\n",
      "cost function: 799932521519310.8\n",
      "cost function: 695221279812692.4\n",
      "cost function: 616188584194057.0\n",
      "cost function: 556969561547640.3\n",
      "cost function: 512996094001906.4\n",
      "cost function: 480714640102848.25\n",
      "cost function: 457364961035872.6\n",
      "cost function: 440806661767453.44\n",
      "cost function: 429383264157906.75\n",
      "cost function: 421815734980760.94\n",
      "cost function: 417119125089822.9\n",
      "cost function: 414537337874561.75\n",
      "cost function: 413492115158698.44\n",
      "cost function: 413543169327784.06\n",
      "cost function: 414357050843641.25\n",
      "cost function: 415682859026487.4\n",
      "cost function: 417333311404148.75\n",
      "cost function: 419170006890586.06\n",
      "cost function: 421091969305541.4\n",
      "cost function: 423026755012789.7\n",
      "cost function: 424923563311264.0\n",
      "cost function: 426747909757057.0\n",
      "cost function: 428477517972401.56\n",
      "cost function: 430099160326210.75\n",
      "cost function: 431606236562176.75\n",
      "cost function: 432996925471521.94\n",
      "cost function: 434272780781718.7\n",
      "cost function: 435437670699268.0\n",
      "cost function: 436496982684333.9\n",
      "cost function: 437457032367506.56\n",
      "cost function: 438324629080586.7\n",
      "cost function: 439106761077898.8\n",
      "cost function: 439810371811123.7\n",
      "cost function: 440442205090517.94\n",
      "cost function: 441008702012248.94\n",
      "cost function: 441515936464241.75\n",
      "cost function: 441969579083699.0\n",
      "cost function: 442374881918258.94\n",
      "cost function: 442736677888632.25\n",
      "cost function: 443059390580175.56\n",
      "cost function: 443347050995729.44\n",
      "cost function: 443603318753772.06\n",
      "cost function: 443831505870568.25\n",
      "cost function: 444034601766392.9\n",
      "cost function: 444215298518337.8\n",
      "cost function: 444376015672458.44\n",
      "cost function: 444518924146973.6\n",
      "cost function: 444645968922192.06\n",
      "cost function: 444758890334493.44\n",
      "cost function: 444859243880911.06\n",
      "cost function: 444948418505306.25\n",
      "cost function: 445027653382752.2\n",
      "cost function: 445098053250125.7\n",
      "cost function: 445160602351634.44\n",
      "cost function: 445216177080760.7\n",
      "cost function: 445265557407041.75\n",
      "cost function: 445309437178775.5\n",
      "cost function: 445348433392407.9\n",
      "cost function: 445383094516913.56\n",
      "cost function: 445413907957642.8\n",
      "cost function: 445441306739379.4\n",
      "cost function: 445465675483127.75\n",
      "cost function: 445487355745692.7\n",
      "cost function: 445506650785645.25\n",
      "cost function: 445523829813905.44\n",
      "cost function: 445539131782030.75\n",
      "cost function: 445552768756419.4\n",
      "cost function: 445564928922075.25\n",
      "cost function: 445575779255338.8\n",
      "cost function: 445585467901072.2\n",
      "cost function: 445594126286207.25\n",
      "cost function: 445601870998285.25\n",
      "cost function: 445608805454640.94\n",
      "cost function: 445615021385191.9\n",
      "cost function: 445620600149352.6\n",
      "cost function: 445625613905400.25\n",
      "cost function: 445630126648641.75\n",
      "cost function: 445634195132962.0\n",
      "cost function: 445637869688741.94\n",
      "cost function: 445641194948710.06\n",
      "cost function: 445644210492027.06\n",
      "cost function: 445646951415755.3\n",
      "cost function: 445649448841860.9\n",
      "cost function: 445651730366987.3\n",
      "cost function: 445653820461433.06\n",
      "cost function: 445655740823049.94\n",
      "cost function: 445657510691141.3\n",
      "cost function: 445659147124864.06\n",
      "cost function: 445660665250145.25\n",
      "cost function: 445662078478658.2\n",
      "cost function: 445663398702020.4\n",
      "cost function: 445664636464009.94\n",
      "cost function: 445665801113282.0\n",
      "cost function: 445666900938794.5\n",
      "cost function: 445667943289897.1\n",
      "cost function: 445668934682816.44\n",
      "cost function: 445669880895079.75\n",
      "cost function: 445670787049240.5\n",
      "cost function: 445671657687118.25\n",
      "cost function: 445672496835625.7\n",
      "cost function: 445673308065136.6\n",
      "cost function: 445674094541238.3\n",
      "cost function: 445674859070618.6\n",
      "cost function: 445675604141754.25\n",
      "cost function: 445676331960983.75\n",
      "cost function: 445677044484494.56\n",
      "cost function: 445677743446682.5\n",
      "cost function: 445678430385297.25\n",
      "cost function: 445679106663736.7\n",
      "cost function: 445679773490815.0\n",
      "cost function: 445680431938287.75\n",
      "cost function: 445681082956392.44\n",
      "cost function: 445681727387625.7\n",
      "cost function: 445682365978959.0\n",
      "cost function: 445682999392669.25\n",
      "cost function: 445683628215941.5\n",
      "cost function: 445684252969383.5\n",
      "cost function: 445684874114574.06\n",
      "cost function: 445685492060755.94\n",
      "cost function: 445686107170769.8\n",
      "cost function: 445686719766315.44\n",
      "cost function: 445687330132616.9\n",
      "cost function: 445687938522557.7\n",
      "cost function: 445688545160348.2\n",
      "cost function: 445689150244776.44\n",
      "cost function: 445689753952090.7\n",
      "cost function: 445690356438555.44\n",
      "cost function: 445690957842716.7\n",
      "cost function: 445691558287410.94\n",
      "cost function: 445692157881547.44\n",
      "cost function: 445692756721686.7\n",
      "cost function: 445693354893439.44\n",
      "cost function: 445693952472710.94\n",
      "cost function: 445694549526798.25\n",
      "cost function: 445695146115369.1\n",
      "cost function: 445695742291325.4\n",
      "cost function: 445696338101570.2\n",
      "cost function: 445696933587688.9\n",
      "cost function: 445697528786551.56\n",
      "cost function: 445698123730847.94\n",
      "cost function: 445698718449560.44\n",
      "cost function: 445699312968386.2\n",
      "cost function: 445699907310107.9\n",
      "cost function: 445700501494925.7\n",
      "cost function: 445701095540748.3\n",
      "cost function: 445701689463454.9\n",
      "cost function: 445702283277123.7\n",
      "cost function: 445702876994236.44\n",
      "cost function: 445703470625859.8\n",
      "cost function: 445704064181806.06\n",
      "cost function: 445704657670774.3\n",
      "cost function: 445705251100477.2\n",
      "cost function: 445705844477753.6\n",
      "cost function: 445706437808666.5\n",
      "cost function: 445707031098591.0\n",
      "cost function: 445707624352293.75\n",
      "cost function: 445708217573999.94\n",
      "cost function: 445708810767456.2\n",
      "cost function: 445709403935984.4\n",
      "cost function: 445709997082529.1\n",
      "cost function: 445710590209702.1\n",
      "cost function: 445711183319818.25\n",
      "cost function: 445711776414929.94\n",
      "cost function: 445712369496856.94\n",
      "cost function: 445712962567213.2\n",
      "cost function: 445713555627428.75\n",
      "cost function: 445714148678772.3\n",
      "cost function: 445714741722368.4\n",
      "cost function: 445715334759213.6\n",
      "cost function: 445715927790192.44\n",
      "cost function: 445716520816088.3\n",
      "cost function: 445717113837596.25\n",
      "cost function: 445717706855332.2\n",
      "cost function: 445718299869842.44\n",
      "cost function: 445718892881611.3\n",
      "cost function: 445719485891068.3\n",
      "cost function: 445720078898594.0\n",
      "cost function: 445720671904526.0\n",
      "cost function: 445721264909163.25\n",
      "cost function: 445721857912771.56\n",
      "cost function: 445722450915585.75\n",
      "cost function: 445723043917814.56\n",
      "cost function: 445723636919643.06\n",
      "cost function: 445724229921235.0\n",
      "cost function: 445724822922735.8\n",
      "cost function: 445725415924274.3\n",
      "cost function: 445726008925965.2\n",
      "cost function: 445726601927909.0\n",
      "cost function: 445727194930196.0\n",
      "cost function: 445727787932906.06\n",
      "cost function: 445728380936109.25\n",
      "cost function: 445728973939868.7\n",
      "cost function: 445729566944239.44\n",
      "cost function: 445730159949271.06\n",
      "cost function: 445730752955006.9\n",
      "cost function: 445731345961485.7\n",
      "cost function: 445731938968742.06\n",
      "cost function: 445732531976805.94\n",
      "cost function: 445733124985704.75\n",
      "cost function: 445733717995462.2\n",
      "cost function: 445734311006099.2\n",
      "cost function: 445734904017634.8\n",
      "cost function: 445735497030085.9\n",
      "cost function: 445736090043466.7\n",
      "cost function: 445736683057790.75\n",
      "cost function: 445737276073069.6\n",
      "cost function: 445737869089313.44\n",
      "cost function: 445738462106531.5\n",
      "cost function: 445739055124731.6\n",
      "cost function: 445739648143921.25\n",
      "cost function: 445740241164106.7\n",
      "cost function: 445740834185293.56\n",
      "cost function: 445741427207486.8\n",
      "cost function: 445742020230690.94\n",
      "cost function: 445742613254909.9\n",
      "cost function: 445743206280146.94\n",
      "cost function: 445743799306405.56\n",
      "cost function: 445744392333688.3\n",
      "cost function: 445744985361997.56\n",
      "cost function: 445745578391335.5\n",
      "cost function: 445746171421703.7\n",
      "cost function: 445746764453104.56\n",
      "cost function: 445747357485539.1\n",
      "cost function: 445747950519008.56\n",
      "cost function: 445748543553514.6\n",
      "cost function: 445749136589057.8\n",
      "cost function: 445749729625639.3\n",
      "cost function: 445750322663260.0\n",
      "cost function: 445750915701920.4\n",
      "cost function: 445751508741621.2\n",
      "cost function: 445752101782363.25\n",
      "cost function: 445752694824146.75\n",
      "cost function: 445753287866972.06\n",
      "cost function: 445753880910840.1\n",
      "cost function: 445754473955750.75\n",
      "cost function: 445755067001704.6\n",
      "cost function: 445755660048701.56\n",
      "cost function: 445756253096742.4\n",
      "cost function: 445756846145826.75\n",
      "cost function: 445757439195955.2\n",
      "cost function: 445758032247127.75\n",
      "cost function: 445758625299344.75\n",
      "cost function: 445759218352606.06\n",
      "cost function: 445759811406912.2\n",
      "cost function: 445760404462262.75\n",
      "cost function: 445760997518658.4\n",
      "cost function: 445761590576098.75\n",
      "cost function: 445762183634584.06\n",
      "cost function: 445762776694114.3\n",
      "cost function: 445763369754689.8\n",
      "cost function: 445763962816310.2\n",
      "cost function: 445764555878975.8\n",
      "cost function: 445765148942686.6\n",
      "cost function: 445765742007442.94\n",
      "cost function: 445766335073244.25\n",
      "cost function: 445766928140091.0\n",
      "cost function: 445767521207982.9\n",
      "cost function: 445768114276920.25\n",
      "cost function: 445768707346903.1\n",
      "cost function: 445769300417931.1\n",
      "cost function: 445769893490004.7\n",
      "cost function: 445770486563123.56\n",
      "cost function: 445771079637287.94\n",
      "cost function: 445771672712497.75\n",
      "cost function: 445772265788753.0\n",
      "cost function: 445772858866053.56\n",
      "cost function: 445773451944399.8\n",
      "cost function: 445774045023791.44\n",
      "cost function: 445774638104228.5\n",
      "cost function: 445775231185711.06\n",
      "cost function: 445775824268239.06\n",
      "cost function: 445776417351812.75\n",
      "cost function: 445777010436431.75\n",
      "cost function: 445777603522096.25\n",
      "cost function: 445778196608806.2\n",
      "cost function: 445778789696561.94\n",
      "cost function: 445779382785362.8\n",
      "cost function: 445779975875209.44\n",
      "cost function: 445780568966101.4\n",
      "cost function: 445781162058039.1\n",
      "cost function: 445781755151022.06\n",
      "cost function: 445782348245050.6\n",
      "cost function: 445782941340124.7\n",
      "cost function: 445783534436244.3\n",
      "cost function: 445784127533409.56\n",
      "cost function: 445784720631620.2\n",
      "cost function: 445785313730876.44\n",
      "cost function: 445785906831178.06\n",
      "cost function: 445786499932525.44\n",
      "cost function: 445787093034918.2\n",
      "cost function: 445787686138356.3\n",
      "cost function: 445788279242840.06\n",
      "cost function: 445788872348369.4\n",
      "cost function: 445789465454944.06\n",
      "cost function: 445790058562564.4\n",
      "cost function: 445790651671230.2\n",
      "cost function: 445791244780941.56\n",
      "cost function: 445791837891698.44\n",
      "cost function: 445792431003500.7\n",
      "cost function: 445793024116348.7\n",
      "cost function: 445793617230242.0\n",
      "cost function: 445794210345181.2\n",
      "cost function: 445794803461165.56\n",
      "cost function: 445795396578195.5\n",
      "cost function: 445795989696271.0\n",
      "cost function: 445796582815391.94\n",
      "cost function: 445797175935558.7\n",
      "cost function: 445797769056770.75\n",
      "cost function: 445798362179028.2\n",
      "cost function: 445798955302331.3\n"
     ]
    },
    {
     "name": "stdout",
     "output_type": "stream",
     "text": [
      "cost function: 445799548426680.06\n",
      "cost function: 445800141552074.06\n",
      "cost function: 445800734678513.94\n",
      "cost function: 445801327805999.0\n",
      "cost function: 445801920934529.94\n",
      "cost function: 445802514064106.06\n",
      "cost function: 445803107194727.7\n",
      "cost function: 445803700326395.06\n",
      "cost function: 445804293459107.8\n",
      "cost function: 445804886592866.4\n",
      "cost function: 445805479727670.1\n",
      "cost function: 445806072863519.4\n",
      "cost function: 445806666000414.4\n",
      "cost function: 445807259138354.8\n",
      "cost function: 445807852277340.7\n",
      "cost function: 445808445417372.25\n",
      "cost function: 445809038558449.1\n",
      "cost function: 445809631700571.8\n",
      "cost function: 445810224843739.8\n",
      "cost function: 445810817987953.2\n",
      "cost function: 445811411133212.3\n",
      "cost function: 445812004279516.9\n",
      "cost function: 445812597426867.2\n",
      "cost function: 445813190575262.75\n",
      "cost function: 445813783724703.75\n",
      "cost function: 445814376875190.5\n",
      "cost function: 445814970026722.75\n",
      "cost function: 445815563179300.4\n",
      "cost function: 445816156332923.7\n",
      "cost function: 445816749487592.3\n",
      "cost function: 445817342643306.8\n",
      "cost function: 445817935800066.56\n",
      "cost function: 445818528957871.94\n",
      "cost function: 445819122116722.6\n",
      "cost function: 445819715276619.1\n",
      "cost function: 445820308437561.1\n",
      "cost function: 445820901599548.3\n",
      "cost function: 445821494762581.2\n",
      "cost function: 445822087926659.75\n",
      "cost function: 445822681091783.9\n",
      "cost function: 445823274257953.4\n",
      "cost function: 445823867425168.25\n",
      "cost function: 445824460593428.94\n",
      "cost function: 445825053762734.9\n",
      "cost function: 445825646933086.75\n",
      "cost function: 445826240104483.75\n",
      "cost function: 445826833276926.25\n",
      "cost function: 445827426450414.44\n",
      "cost function: 445828019624948.2\n",
      "cost function: 445828612800527.4\n",
      "cost function: 445829205977151.94\n",
      "cost function: 445829799154822.1\n",
      "cost function: 445830392333538.1\n",
      "cost function: 445830985513299.4\n",
      "cost function: 445831578694106.1\n",
      "cost function: 445832171875958.5\n",
      "cost function: 445832765058856.25\n",
      "cost function: 445833358242799.8\n",
      "cost function: 445833951427788.6\n",
      "cost function: 445834544613822.9\n",
      "cost function: 445835137800902.9\n",
      "cost function: 445835730989028.5\n",
      "cost function: 445836324178199.3\n",
      "cost function: 445836917368415.94\n",
      "cost function: 445837510559677.8\n",
      "cost function: 445838103751985.56\n",
      "cost function: 445838696945338.5\n",
      "cost function: 445839290139737.06\n",
      "cost function: 445839883335181.2\n",
      "cost function: 445840476531670.7\n",
      "cost function: 445841069729206.1\n",
      "cost function: 445841662927786.7\n",
      "cost function: 445842256127412.75\n",
      "cost function: 445842849328084.5\n",
      "cost function: 445843442529801.8\n",
      "cost function: 445844035732564.5\n",
      "cost function: 445844628936372.9\n",
      "cost function: 445845222141226.6\n",
      "cost function: 445845815347125.94\n",
      "cost function: 445846408554070.9\n",
      "cost function: 445847001762061.2\n",
      "cost function: 445847594971097.06\n",
      "cost function: 445848188181178.3\n",
      "cost function: 445848781392305.56\n",
      "cost function: 445849374604477.9\n",
      "cost function: 445849967817695.8\n",
      "cost function: 445850561031959.3\n",
      "cost function: 445851154247268.4\n",
      "cost function: 445851747463622.9\n",
      "cost function: 445852340681023.0\n",
      "cost function: 445852933899468.5\n",
      "cost function: 445853527118959.6\n",
      "cost function: 445854120339496.3\n",
      "cost function: 445854713561078.3\n",
      "cost function: 445855306783706.1\n",
      "cost function: 445855900007379.3\n",
      "cost function: 445856493232098.2\n",
      "cost function: 445857086457862.2\n",
      "cost function: 445857679684671.94\n",
      "cost function: 445858272912527.2\n",
      "cost function: 445858866141428.1\n",
      "cost function: 445859459371374.25\n",
      "cost function: 445860052602366.2\n",
      "cost function: 445860645834403.5\n",
      "cost function: 445861239067486.44\n",
      "cost function: 445861832301615.0\n",
      "cost function: 445862425536788.9\n",
      "cost function: 445863018773008.25\n",
      "cost function: 445863612010273.25\n",
      "cost function: 445864205248583.9\n",
      "cost function: 445864798487939.75\n",
      "cost function: 445865391728341.2\n",
      "cost function: 445865984969788.3\n",
      "cost function: 445866578212280.94\n",
      "cost function: 445867171455819.1\n",
      "cost function: 445867764700402.6\n",
      "cost function: 445868357946031.94\n",
      "cost function: 445868951192706.4\n",
      "cost function: 445869544440426.8\n",
      "cost function: 445870137689192.44\n",
      "cost function: 445870730939003.6\n",
      "cost function: 445871324189860.4\n",
      "cost function: 445871917441762.75\n",
      "cost function: 445872510694710.4\n",
      "cost function: 445873103948703.6\n",
      "cost function: 445873697203742.56\n",
      "cost function: 445874290459826.8\n",
      "cost function: 445874883716956.9\n",
      "cost function: 445875476975132.25\n",
      "cost function: 445876070234353.2\n",
      "cost function: 445876663494619.5\n",
      "cost function: 445877256755931.8\n",
      "cost function: 445877850018289.1\n",
      "cost function: 445878443281692.06\n",
      "cost function: 445879036546140.6\n",
      "cost function: 445879629811634.75\n",
      "cost function: 445880223078174.25\n",
      "cost function: 445880816345759.4\n",
      "cost function: 445881409614389.94\n",
      "cost function: 445882002884066.0\n",
      "cost function: 445882596154787.8\n",
      "cost function: 445883189426555.0\n",
      "cost function: 445883782699367.75\n",
      "cost function: 445884375973225.9\n",
      "cost function: 445884969248129.75\n",
      "cost function: 445885562524079.0\n",
      "cost function: 445886155801073.6\n",
      "cost function: 445886749079114.06\n",
      "cost function: 445887342358199.94\n",
      "cost function: 445887935638331.25\n",
      "cost function: 445888528919508.1\n",
      "cost function: 445889122201730.44\n",
      "cost function: 445889715484998.4\n",
      "cost function: 445890308769311.94\n",
      "cost function: 445890902054670.8\n",
      "cost function: 445891495341075.3\n",
      "cost function: 445892088628525.25\n",
      "cost function: 445892681917021.0\n",
      "cost function: 445893275206561.94\n",
      "cost function: 445893868497148.44\n",
      "cost function: 445894461788780.5\n",
      "cost function: 445895055081458.3\n",
      "cost function: 445895648375181.4\n",
      "cost function: 445896241669950.0\n",
      "cost function: 445896834965764.1\n",
      "cost function: 445897428262623.8\n",
      "cost function: 445898021560529.2\n",
      "cost function: 445898614859479.75\n",
      "cost function: 445899208159476.1\n",
      "cost function: 445899801460517.9\n",
      "cost function: 445900394762605.44\n",
      "cost function: 445900988065738.06\n",
      "cost function: 445901581369916.3\n",
      "cost function: 445902174675140.3\n",
      "cost function: 445902767981409.75\n",
      "cost function: 445903361288724.7\n",
      "cost function: 445903954597085.06\n",
      "cost function: 445904547906491.0\n",
      "cost function: 445905141216942.44\n",
      "cost function: 445905734528439.56\n",
      "cost function: 445906327840982.1\n",
      "cost function: 445906921154570.06\n",
      "cost function: 445907514469203.75\n",
      "[76270.60511589]\n",
      "[-2485.28854055]\n"
     ]
    }
   ],
   "source": [
    "W = np.array([0])\n",
    "b = np.array([0])\n",
    "\n",
    "LEARNING_RATE = 10e-8\n",
    "NUM_ITERATIONS = 500\n",
    "\n",
    "for i in range(0, NUM_ITERATIONS):\n",
    "    #print('{} step'.format(i))\n",
    "#     y_hat = np.array([net_input(W, [x_single], b) for x_single in x])\n",
    "    y_hat = net_input(W, x_single, b)\n",
    "    print('cost function: {}'.format(cost_function(y_hat, y)))\n",
    "    W = W - LEARNING_RATE * cost_function_derivative_w(y_hat, y, X)\n",
    "    b = b - LEARNING_RATE * cost_function_derivative_b(y_hat, y)\n",
    "    \n",
    "print(W)\n",
    "print(b)"
   ]
  },
  {
   "cell_type": "code",
   "execution_count": 152,
   "metadata": {},
   "outputs": [
    {
     "data": {
      "image/png": "[encoded data removed]",
      "text/plain": [
       "<Figure size 432x288 with 1 Axes>"
      ]
     },
     "metadata": {},
     "output_type": "display_data"
    }
   ],
   "source": [
    "plt.plot(x, y, 'o')\n",
    "plt.plot(np.arange(0, 100), np.arange(0, 100) * W + b, 'r--')\n",
    "plt.show()"
   ]
  },
  {
   "cell_type": "markdown",
   "metadata": {},
   "source": [
    "## Scikit-learn"
   ]
  },
  {
   "cell_type": "code",
   "execution_count": 122,
   "metadata": {},
   "outputs": [],
   "source": [
    "from sklearn.linear_model import LinearRegression"
   ]
  },
  {
   "cell_type": "code",
   "execution_count": 123,
   "metadata": {},
   "outputs": [
    {
     "data": {
      "text/plain": [
       "LinearRegression(copy_X=True, fit_intercept=True, n_jobs=1, normalize=False)"
      ]
     },
     "execution_count": 123,
     "metadata": {},
     "output_type": "execute_result"
    }
   ],
   "source": [
    "model = LinearRegression()\n",
    "model"
   ]
  },
  {
   "cell_type": "code",
   "execution_count": 133,
   "metadata": {},
   "outputs": [
    {
     "data": {
      "text/plain": [
       "(175, 1)"
      ]
     },
     "execution_count": 133,
     "metadata": {},
     "output_type": "execute_result"
    }
   ],
   "source": [
    "x.reshape(-1, 1).shape"
   ]
  },
  {
   "cell_type": "code",
   "execution_count": 134,
   "metadata": {},
   "outputs": [
    {
     "data": {
      "text/plain": [
       "LinearRegression(copy_X=True, fit_intercept=True, n_jobs=1, normalize=False)"
      ]
     },
     "execution_count": 134,
     "metadata": {},
     "output_type": "execute_result"
    }
   ],
   "source": [
    "model.fit(x.reshape(-1, 1), y.reshape(-1, 1))"
   ]
  },
  {
   "cell_type": "code",
   "execution_count": 125,
   "metadata": {},
   "outputs": [],
   "source": [
    "y_pred = model.predict(x.reshape(-1, 1))"
   ]
  },
  {
   "cell_type": "code",
   "execution_count": 126,
   "metadata": {},
   "outputs": [
    {
     "data": {
      "text/plain": [
       "array([[4168875.6442063 ],\n",
       "       [2770730.75498604],\n",
       "       [3392722.62081082],\n",
       "       [3668239.17611584],\n",
       "       [4934376.8701993 ],\n",
       "       [4934503.62442993],\n",
       "       [5718196.4818974 ],\n",
       "       [3074072.28371942],\n",
       "       [3663197.02786161],\n",
       "       [3443225.19759447],\n",
       "       [6513148.55422663],\n",
       "       [2656536.93644321],\n",
       "       [3163237.61068984],\n",
       "       [4677425.87198836],\n",
       "       [4807906.9009978 ],\n",
       "       [4800697.56344075],\n",
       "       [4362548.26712648],\n",
       "       [3822251.14225211],\n",
       "       [4028500.36059159],\n",
       "       [4401993.2986755 ],\n",
       "       [3641186.26586317],\n",
       "       [5025696.56364467],\n",
       "       [4399173.887813  ],\n",
       "       [4189994.69422286],\n",
       "       [3972880.9522756 ],\n",
       "       [3275911.26767049],\n",
       "       [4729459.8876091 ],\n",
       "       [3844727.92661684],\n",
       "       [3681068.86760367],\n",
       "       [5890903.78538258],\n",
       "       [3650011.85200016],\n",
       "       [4861171.69381701],\n",
       "       [5630202.85971855],\n",
       "       [2779891.59723493],\n",
       "       [2685634.16515994],\n",
       "       [3221938.64183606],\n",
       "       [4361441.41090934],\n",
       "       [5311284.02625828],\n",
       "       [3492784.09675774],\n",
       "       [4009385.95907194],\n",
       "       [5133642.26831986],\n",
       "       [3885929.72269978],\n",
       "       [6121779.52583147],\n",
       "       [2940996.74875376],\n",
       "       [4506797.09962216],\n",
       "       [3537479.86104593],\n",
       "       [4340492.73207123],\n",
       "       [3832244.2767135 ],\n",
       "       [3775883.44363048],\n",
       "       [4794127.88403899],\n",
       "       [2658848.76407401],\n",
       "       [3298599.29407403],\n",
       "       [2823798.48788306],\n",
       "       [2988960.68924594],\n",
       "       [3669796.63217045],\n",
       "       [2895689.63396049],\n",
       "       [5389277.23281846],\n",
       "       [4745162.71876813],\n",
       "       [5911456.35346106],\n",
       "       [4301284.36403785],\n",
       "       [4133090.58038284],\n",
       "       [4465015.30088866],\n",
       "       [3172504.70771897],\n",
       "       [4215226.72872007],\n",
       "       [4434186.54902625],\n",
       "       [3784313.17452771],\n",
       "       [5017412.07261623],\n",
       "       [3236579.93126194],\n",
       "       [5523874.86622027],\n",
       "       [2496494.1027085 ],\n",
       "       [3305060.35517487],\n",
       "       [4733511.59782671],\n",
       "       [7508699.32514365],\n",
       "       [3205027.49056847],\n",
       "       [3445767.6057999 ],\n",
       "       [3399081.14559268],\n",
       "       [3307234.27744512],\n",
       "       [5529201.06742856],\n",
       "       [4210695.54762959],\n",
       "       [5175243.56180864],\n",
       "       [3082611.66723118],\n",
       "       [3617763.05427149],\n",
       "       [4285608.02802379],\n",
       "       [5648265.97910062],\n",
       "       [4342626.89196421],\n",
       "       [4301700.96473862],\n",
       "       [3397807.25148115],\n",
       "       [3588602.15242689],\n",
       "       [3012678.99566346],\n",
       "       [3936548.49693555],\n",
       "       [5149883.65845529],\n",
       "       [3432381.62516469],\n",
       "       [3330445.1685035 ],\n",
       "       [3745451.66418884],\n",
       "       [3307910.0281801 ],\n",
       "       [3888942.97750152],\n",
       "       [3826560.11330987],\n",
       "       [4038844.0481995 ],\n",
       "       [6352592.17012715],\n",
       "       [5232219.08940821],\n",
       "       [6190618.01034017],\n",
       "       [3590947.96980976],\n",
       "       [4332778.77922568],\n",
       "       [3856903.4558046 ],\n",
       "       [2947024.59130534],\n",
       "       [4539446.97346356],\n",
       "       [4079764.47090418],\n",
       "       [3341914.97705533],\n",
       "       [4613651.01076505],\n",
       "       [5498776.98318474],\n",
       "       [4406558.6781305 ],\n",
       "       [4907441.61767298],\n",
       "       [2865182.01592101],\n",
       "       [3222596.57713858],\n",
       "       [3597096.43900512],\n",
       "       [3059151.74984545],\n",
       "       [3233113.03132054],\n",
       "       [4786413.00906596],\n",
       "       [2996122.27016234],\n",
       "       [3791371.93276435],\n",
       "       [3224210.85561897],\n",
       "       [2984932.92436745],\n",
       "       [4322220.82916655],\n",
       "       [5216409.37814725],\n",
       "       [4616896.38873147],\n",
       "       [4039864.96404728],\n",
       "       [3198850.54325784],\n",
       "       [3089140.95735146],\n",
       "       [7334920.15150703],\n",
       "       [3852217.69943653],\n",
       "       [4062879.72959722],\n",
       "       [4639087.26616599],\n",
       "       [5148066.7912605 ],\n",
       "       [4266951.52638464],\n",
       "       [2808395.60694033],\n",
       "       [4307326.79926471],\n",
       "       [3834973.07055864],\n",
       "       [3453785.32114147],\n",
       "       [4197122.3263382 ],\n",
       "       [2642868.32084895],\n",
       "       [2705677.54639517],\n",
       "       [4530780.42762638],\n",
       "       [3881417.79530049],\n",
       "       [4372617.77515799],\n",
       "       [4421863.92116228],\n",
       "       [6068050.34916597],\n",
       "       [3645873.91605134],\n",
       "       [3869629.83023991],\n",
       "       [5811610.28553686],\n",
       "       [4441468.15531621],\n",
       "       [2944628.9180635 ],\n",
       "       [4574015.95652098],\n",
       "       [4994811.56977413],\n",
       "       [3898441.94794428],\n",
       "       [2512299.14953218],\n",
       "       [4565048.02510347],\n",
       "       [3517727.67821614],\n",
       "       [3328609.38547304],\n",
       "       [4580990.69645498],\n",
       "       [3400761.94495163],\n",
       "       [4186301.44439475],\n",
       "       [3599341.58090481],\n",
       "       [3596838.87482062],\n",
       "       [3798896.89309638],\n",
       "       [5373420.98867524],\n",
       "       [3156022.9071757 ],\n",
       "       [4314244.69032135],\n",
       "       [4786643.90344226],\n",
       "       [5991149.92007247],\n",
       "       [3684198.70230249],\n",
       "       [3506547.72130918],\n",
       "       [6677067.75651659],\n",
       "       [3849324.75501921],\n",
       "       [4622332.50420012],\n",
       "       [3573024.42459388]])"
      ]
     },
     "execution_count": 126,
     "metadata": {},
     "output_type": "execute_result"
    }
   ],
   "source": [
    "y_pred"
   ]
  },
  {
   "cell_type": "code",
   "execution_count": 128,
   "metadata": {},
   "outputs": [
    {
     "data": {
      "text/plain": [
       "[<matplotlib.lines.Line2D at 0x117af0b38>]"
      ]
     },
     "execution_count": 128,
     "metadata": {},
     "output_type": "execute_result"
    },
    {
     "data": {
      "image/png": "[encoded data removed]",
      "text/plain": [
       "<Figure size 432x288 with 1 Axes>"
      ]
     },
     "metadata": {},
     "output_type": "display_data"
    }
   ],
   "source": [
    "plt.plot(x, y, 'o')\n",
    "plt.plot(x, y_pred)"
   ]
  },
  {
   "cell_type": "code",
   "execution_count": 129,
   "metadata": {},
   "outputs": [
    {
     "data": {
      "text/plain": [
       "array([[75227.26091521]])"
      ]
     },
     "execution_count": 129,
     "metadata": {},
     "output_type": "execute_result"
    }
   ],
   "source": [
    "model.coef_"
   ]
  },
  {
   "cell_type": "code",
   "execution_count": 130,
   "metadata": {},
   "outputs": [
    {
     "data": {
      "text/plain": [
       "array([-161642.60465199])"
      ]
     },
     "execution_count": 130,
     "metadata": {},
     "output_type": "execute_result"
    }
   ],
   "source": [
    "model.intercept_"
   ]
  },
  {
   "cell_type": "markdown",
   "metadata": {},
   "source": [
    "## Сохранение данных"
   ]
  },
  {
   "cell_type": "code",
   "execution_count": 22,
   "metadata": {},
   "outputs": [],
   "source": [
    "# x = x.reshape(1, 175)\n",
    "# y = y.reshape(1, 175)\n",
    "# x.shape\n",
    "# np.array([x, y]).shape\n",
    "df = pd.DataFrame(np.array([x, y]).T, columns=['X1', 'X2'])"
   ]
  },
  {
   "cell_type": "code",
   "execution_count": 24,
   "metadata": {},
   "outputs": [],
   "source": [
    "df.to_csv('apt_prices.csv', index=False)"
   ]
  }
 ],
 "metadata": {
  "kernelspec": {
   "display_name": "Python 3",
   "language": "python",
   "name": "python3"
  },
  "language_info": {
   "codemirror_mode": {
    "name": "ipython",
    "version": 3
   },
   "file_extension": ".py",
   "mimetype": "text/x-python",
   "name": "python",
   "nbconvert_exporter": "python",
   "pygments_lexer": "ipython3",
   "version": "3.6.3"
  }
 },
 "nbformat": 4,
 "nbformat_minor": 2
}
